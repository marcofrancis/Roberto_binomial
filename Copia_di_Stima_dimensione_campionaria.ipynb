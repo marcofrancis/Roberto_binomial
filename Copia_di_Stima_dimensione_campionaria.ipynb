{
  "cells": [
    {
      "cell_type": "code",
      "execution_count": 67,
      "metadata": {
        "id": "3EbHR3jxVJw_"
      },
      "outputs": [
        {
          "name": "stdout",
          "output_type": "stream",
          "text": [
            "The autoreload extension is already loaded. To reload it, use:\n",
            "  %reload_ext autoreload\n"
          ]
        }
      ],
      "source": [
        "# Add autoreload\n",
        "%load_ext autoreload\n",
        "%autoreload 2\n",
        "\n",
        "from binomial_functions import *\n",
        "import numpy as np"
      ]
    },
    {
      "cell_type": "code",
      "execution_count": 6,
      "metadata": {},
      "outputs": [],
      "source": [
        "TPR = 0.9\n",
        "TNR = 0.9\n",
        "Npos = 17\n",
        "Nneg = 500\n",
        "Montecarlo_sample = 10**4\n",
        "ord = \"01\""
      ]
    },
    {
      "cell_type": "code",
      "execution_count": 7,
      "metadata": {
        "id": "p78o2iKeg0-5"
      },
      "outputs": [],
      "source": [
        "CM = CreateConfusionMatrix(TPR,TNR,Npos,Nneg,Montecarlo_sample,ord)"
      ]
    },
    {
      "cell_type": "code",
      "execution_count": 11,
      "metadata": {
        "id": "xgGnVfmgiIRe"
      },
      "outputs": [],
      "source": [
        "Risultati = CalculateStatistic(CM)"
      ]
    },
    {
      "cell_type": "code",
      "execution_count": 14,
      "metadata": {
        "colab": {
          "base_uri": "https://localhost:8080/"
        },
        "id": "ski9PYBkijZl",
        "outputId": "50e2a363-bf10-4bfe-ed9d-2bcc5f1e655b"
      },
      "outputs": [
        {
          "name": "stdout",
          "output_type": "stream",
          "text": [
            "\n",
            "=== STATISTICS SUMMARY ===\n",
            "Accuracy                  | Mean: 0.900010 | Std: 0.013156\n",
            "TPR                       | Mean: 0.899788 | Std: 0.072864\n",
            "TNR                       | Mean: 0.900017 | Std: 0.013360\n",
            "PPV                       | Mean: 0.236514 | Std: 0.028831\n",
            "NPV                       | Mean: 0.996235 | Std: 0.002730\n",
            "Balanced accuracy         | Mean: 0.899903 | Std: 0.037081\n",
            "Correlation Coefficient   | Mean: 0.431018 | Std: 0.044617\n",
            "Markedness                | Mean: 0.232749 | Std: 0.030375\n",
            "F1 score                  | Mean: 0.373885 | Std: 0.039576\n",
            "Fowlkes-Mallows           | Mean: 0.460680 | Std: 0.040895\n",
            "Younden                   | Mean: 0.799806 | Std: 0.074163\n",
            "P4                        | Mean: 0.534822 | Std: 0.041736\n",
            "============================================================\n"
          ]
        }
      ],
      "source": [
        "print_statistics(Risultati)"
      ]
    }
  ],
  "metadata": {
    "colab": {
      "provenance": []
    },
    "kernelspec": {
      "display_name": "Python 3",
      "name": "python3"
    },
    "language_info": {
      "codemirror_mode": {
        "name": "ipython",
        "version": 3
      },
      "file_extension": ".py",
      "mimetype": "text/x-python",
      "name": "python",
      "nbconvert_exporter": "python",
      "pygments_lexer": "ipython3",
      "version": "3.9.21"
    }
  },
  "nbformat": 4,
  "nbformat_minor": 0
}
